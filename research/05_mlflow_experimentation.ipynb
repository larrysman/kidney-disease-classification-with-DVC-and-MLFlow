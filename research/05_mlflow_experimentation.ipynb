{
 "cells": [
  {
   "cell_type": "markdown",
   "id": "913bb8af",
   "metadata": {},
   "source": [
    "##### MLFLOW EXPERIMENTATION"
   ]
  },
  {
   "cell_type": "code",
   "execution_count": 1,
   "id": "53d18440",
   "metadata": {},
   "outputs": [
    {
     "name": "stdout",
     "output_type": "stream",
     "text": [
      "Original Working Directory:c:\\Users\\Olanrewaju Adegoke\\DLOPs\\Kidney_Disease_Classification\\research\n",
      "Current Working Directory after Changed: c:\\Users\\Olanrewaju Adegoke\\DLOPs\\Kidney_Disease_Classification\n"
     ]
    }
   ],
   "source": [
    "import os\n",
    "\n",
    "print(f\"Original Working Directory:{os.getcwd()}\")\n",
    "\n",
    "os.chdir(\"../\")\n",
    "\n",
    "print(f\"Current Working Directory after Changed: {os.getcwd()}\")"
   ]
  },
  {
   "cell_type": "code",
   "execution_count": 2,
   "id": "1555676a",
   "metadata": {},
   "outputs": [],
   "source": [
    "# UPDATE ENTITY FOR MLFLOW EXPERIMENTATION\n",
    "\n",
    "from dataclasses import dataclass\n",
    "from pathlib import Path\n",
    "\n",
    "@dataclass(frozen=True)\n",
    "class ModelLoggingWithMLFLOWConfig:\n",
    "    trained_model_path: Path\n",
    "    all_params: dict\n",
    "    mlflow_url: str\n",
    "    scores_file_path: Path\n",
    "\n"
   ]
  },
  {
   "cell_type": "code",
   "execution_count": 3,
   "id": "ad2c034e",
   "metadata": {},
   "outputs": [],
   "source": [
    "# UPDATE THE CONFIGURATION MANAGER INSIDE THE SRC/CONFIG - THIS IS ESSENTIAL AS THE CURRENT WORKFLOW WILL USE IT TO RUN\n",
    "\n",
    "from src.Kidney_classifier.constants import CONFIG_FILE_PATH, PARAMS_FILE_PATH\n",
    "\n",
    "from Kidney_classifier.utils.common import read_yaml_file, create_directories\n",
    "\n",
    "\n",
    "class ConfigurationManager:\n",
    "    def __init__(\n",
    "        self,\n",
    "        config_filepath = CONFIG_FILE_PATH,\n",
    "        params_filepath = PARAMS_FILE_PATH):\n",
    "\n",
    "        self.config = read_yaml_file(config_filepath)\n",
    "        self.params = read_yaml_file(params_filepath)\n",
    "\n",
    "        create_directories([self.config.artifacts_root])\n",
    "\n",
    "    \n",
    "    def get_mlflow_config(self) -> ModelLoggingWithMLFLOWConfig:\n",
    "        all_mlflow_config = self.config.model_logging_with_mlflow\n",
    "        all_mlflow_params = self.params.prepare_base_model\n",
    "        \n",
    "        mlflow_config = ModelLoggingWithMLFLOWConfig(\n",
    "            trained_model_path=Path(all_mlflow_config.trained_model_path),\n",
    "            scores_file_path=Path(all_mlflow_config.scores_file_path),\n",
    "            #all_params = self.params.prepare_base_model,\n",
    "            all_params = all_mlflow_params,\n",
    "            mlflow_url=all_mlflow_config.mlflow_url\n",
    "        )\n",
    "\n",
    "        return mlflow_config"
   ]
  },
  {
   "cell_type": "code",
   "execution_count": 4,
   "id": "45442ef4",
   "metadata": {},
   "outputs": [],
   "source": [
    "# UPDATE THE COMPONENTS - THIS IS WHERE YOU CREATE THE FILE FOR EVALUATING THE MODEL\n",
    "\n",
    "import tensorflow as tf\n",
    "from pathlib import Path\n",
    "import mlflow\n",
    "import mlflow.keras\n",
    "import json\n",
    "from urllib.parse import urlparse\n",
    "from Kidney_classifier import logger"
   ]
  },
  {
   "cell_type": "code",
   "execution_count": 9,
   "id": "8e4531b6",
   "metadata": {},
   "outputs": [],
   "source": [
    "class MLFLOWLogger:\n",
    "    def __init__(self, config: ModelLoggingWithMLFLOWConfig):\n",
    "        self.config = config\n",
    "\n",
    "    def load_evaluation_scores(self):\n",
    "        with open(self.config.scores_file_path, \"r\") as file:\n",
    "            return json.load(file)\n",
    "        \n",
    "\n",
    "    def load_trained_model(self):\n",
    "        return tf.keras.models.load_model(self.config.trained_model_path)\n",
    "    \n",
    "    def run_mlflow_log(self):\n",
    "        scores = self.load_evaluation_scores()\n",
    "        model = self.load_trained_model()\n",
    "\n",
    "        mlflow.set_registry_uri(self.config.mlflow_url)\n",
    "        tracking_url_type_store = urlparse(mlflow.get_tracking_uri()).scheme\n",
    "\n",
    "        with mlflow.start_run():\n",
    "            mlflow.log_params(self.config.all_params)\n",
    "            mlflow.log_metrics(scores)\n",
    "\n",
    "\n",
    "            if tracking_url_type_store != \"file\":\n",
    "                mlflow.keras.load_model(\n",
    "                    model, \"model\", registered_model_name=\"KIDNEY_DISEASE_CLASSIFIER_FROM_VGG16Model\", keras_model_kwargs={\"save_format\": \"h5\"}\n",
    "                )\n",
    "\n",
    "            else:\n",
    "                mlflow.keras.log_model(model, \"model\", keras_model_kwargs={\"save_format\": \"h5\"})"
   ]
  },
  {
   "cell_type": "code",
   "execution_count": 10,
   "id": "b24e9447",
   "metadata": {},
   "outputs": [
    {
     "name": "stdout",
     "output_type": "stream",
     "text": [
      "[2025-08-13 18:57:54,343: INFO: common: yaml file: config\\config.yaml loaded successfully]\n",
      "[2025-08-13 18:57:54,348: INFO: common: yaml file: params.yaml loaded successfully]\n",
      "[2025-08-13 18:57:54,350: INFO: common: created directory at: artifacts]\n",
      "[2025-08-13 18:57:54,625: WARNING: saving_utils: Compiled the loaded model, but the compiled metrics have yet to be built. `model.compile_metrics` will be empty until you train or evaluate the model.]\n"
     ]
    },
    {
     "name": "stderr",
     "output_type": "stream",
     "text": [
      "2025/08/13 18:57:54 WARNING mlflow.tensorflow: You are saving a TensorFlow Core model or Keras model without a signature. Inference with mlflow.pyfunc.spark_udf() will not work unless the model's pyfunc representation accepts pandas DataFrames as inference inputs.\n"
     ]
    },
    {
     "name": "stdout",
     "output_type": "stream",
     "text": [
      "[2025-08-13 18:57:54,722: WARNING: saving_api: The `save_format` argument is deprecated in Keras 3. We recommend removing this argument as it can be inferred from the file path. Received: save_format=h5]\n",
      "[2025-08-13 18:57:54,723: WARNING: saving_api: You are saving your model as an HDF5 file via `model.save()` or `keras.saving.save_model(model)`. This file format is considered legacy. We recommend using instead the native Keras format, e.g. `model.save('my_model.keras')` or `keras.saving.save_model(model, 'my_model.keras')`. ]\n"
     ]
    },
    {
     "name": "stderr",
     "output_type": "stream",
     "text": [
      "2025/08/13 18:58:14 WARNING mlflow.utils.environment: Encountered an unexpected error while inferring pip requirements (model URI: C:\\Users\\OLANRE~1\\AppData\\Local\\Temp\\tmp89bv275o\\model, flavor: tensorflow), fall back to return ['tensorflow==2.17.1']. Set logging level to DEBUG to see the full traceback.\n",
      "c:\\Users\\Olanrewaju Adegoke\\DLOPs\\Kidney_Disease_Classification\\KIDNEY_CLASS_VENV\\Lib\\site-packages\\_distutils_hack\\__init__.py:33: UserWarning: Setuptools is replacing distutils.\n",
      "  warnings.warn(\"Setuptools is replacing distutils.\")\n"
     ]
    }
   ],
   "source": [
    "# UPDATE THE PIPELINE\n",
    "\n",
    "try:\n",
    "    config = ConfigurationManager()\n",
    "    mlflow_logger_config = config.get_mlflow_config()\n",
    "    mlflow_logger = MLFLOWLogger(config=mlflow_logger_config)\n",
    "    mlflow_logger.run_mlflow_log()\n",
    "\n",
    "except Exception as e:\n",
    "    raise e"
   ]
  }
 ],
 "metadata": {
  "kernelspec": {
   "display_name": "KIDNEY_CLASS_VENV",
   "language": "python",
   "name": "python3"
  },
  "language_info": {
   "codemirror_mode": {
    "name": "ipython",
    "version": 3
   },
   "file_extension": ".py",
   "mimetype": "text/x-python",
   "name": "python",
   "nbconvert_exporter": "python",
   "pygments_lexer": "ipython3",
   "version": "3.11.9"
  }
 },
 "nbformat": 4,
 "nbformat_minor": 5
}
