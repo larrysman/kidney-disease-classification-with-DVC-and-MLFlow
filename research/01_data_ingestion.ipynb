{
 "cells": [
  {
   "cell_type": "code",
   "execution_count": 1,
   "id": "b7b50426",
   "metadata": {},
   "outputs": [],
   "source": [
    "import os"
   ]
  },
  {
   "cell_type": "code",
   "execution_count": 2,
   "id": "d5f1c775",
   "metadata": {},
   "outputs": [
    {
     "data": {
      "text/plain": [
       "'c:\\\\Users\\\\Olanrewaju Adegoke\\\\DLOPs\\\\Kidney_Disease_Classification\\\\research'"
      ]
     },
     "execution_count": 2,
     "metadata": {},
     "output_type": "execute_result"
    }
   ],
   "source": [
    "%pwd"
   ]
  },
  {
   "cell_type": "code",
   "execution_count": 3,
   "id": "e566e3e7",
   "metadata": {},
   "outputs": [],
   "source": [
    "os.chdir(\"../\")"
   ]
  },
  {
   "cell_type": "code",
   "execution_count": 8,
   "id": "91d99dec",
   "metadata": {},
   "outputs": [
    {
     "data": {
      "text/plain": [
       "'c:\\\\Users\\\\Olanrewaju Adegoke\\\\DLOPs\\\\Kidney_Disease_Classification'"
      ]
     },
     "execution_count": 8,
     "metadata": {},
     "output_type": "execute_result"
    }
   ],
   "source": [
    "%pwd"
   ]
  },
  {
   "cell_type": "code",
   "execution_count": 6,
   "id": "78a07f0b",
   "metadata": {},
   "outputs": [
    {
     "name": "stdout",
     "output_type": "stream",
     "text": [
      " Volume in drive C is Windows\n",
      " Volume Serial Number is F630-82A0\n",
      "\n",
      " Directory of c:\\Users\\Olanrewaju Adegoke\\DLOPs\\Kidney_Disease_Classification\n",
      "\n",
      "07/31/2025  08:31 PM    <DIR>          .\n",
      "07/31/2025  11:29 AM    <DIR>          ..\n",
      "07/31/2025  12:13 PM    <DIR>          .github\n",
      "07/31/2025  12:13 PM    <DIR>          config\n",
      "07/31/2025  08:33 PM    <DIR>          data\n",
      "07/31/2025  12:13 PM                 0 dvc.yaml\n",
      "07/31/2025  02:11 PM    <DIR>          KIDNEY_CLASS_VENV\n",
      "07/31/2025  03:34 PM    <DIR>          logs\n",
      "07/31/2025  03:42 PM               127 main.py\n",
      "07/31/2025  12:13 PM                 0 params.yaml\n",
      "07/31/2025  11:24 PM             1,406 README.md\n",
      "07/31/2025  02:42 PM               381 requirements.txt\n",
      "07/31/2025  11:49 PM    <DIR>          research\n",
      "07/31/2025  03:39 PM             1,042 setup.py\n",
      "07/31/2025  12:43 PM    <DIR>          src\n",
      "07/31/2025  12:12 PM             2,209 template.py\n",
      "07/31/2025  12:13 PM    <DIR>          templates\n",
      "               7 File(s)          5,165 bytes\n",
      "              10 Dir(s)  65,915,314,176 bytes free\n"
     ]
    }
   ],
   "source": [
    "%ls"
   ]
  },
  {
   "cell_type": "code",
   "execution_count": 9,
   "id": "84569be3",
   "metadata": {},
   "outputs": [],
   "source": [
    "# Update the Entity\n",
    "\n",
    "from dataclasses import dataclass\n",
    "from pathlib import Path\n",
    "\n",
    "@dataclass(frozen=True)\n",
    "class DataIngestionConfig:\n",
    "    root_dir: Path\n",
    "    source_url: str\n",
    "    local_data_file: Path\n",
    "    unzip_dir: Path"
   ]
  },
  {
   "cell_type": "code",
   "execution_count": 14,
   "id": "66e8a927",
   "metadata": {},
   "outputs": [],
   "source": [
    "#from src.Kidney_classifier.constants import CONFIG_FILE_PATH, PARAMS_FILE_PATH\n",
    "\n",
    "from src.Kidney_classifier.constants import *\n",
    "\n",
    "from Kidney_classifier.utils.common import read_yaml_file, create_directories\n",
    "\n"
   ]
  },
  {
   "cell_type": "code",
   "execution_count": 23,
   "id": "8b68d88d",
   "metadata": {},
   "outputs": [],
   "source": [
    "# Update the configuration manager in src config\n",
    "\n",
    "class ConfigurationManager:\n",
    "    def __init__(\n",
    "        self,\n",
    "        config_filepath = CONFIG_FILE_PATH,\n",
    "        params_filepath = PARAMS_FILE_PATH):\n",
    "\n",
    "\n",
    "        self.config = read_yaml_file(config_filepath)\n",
    "        self.params = read_yaml_file(params_filepath)\n",
    "\n",
    "        create_directories([self.config.artifacts_root])\n",
    "\n",
    "\n",
    "    def get_data_ingestion_config(self) -> DataIngestionConfig:\n",
    "        config = self.config.data_ingestion\n",
    "\n",
    "        create_directories([config.root_dir])\n",
    "\n",
    "        data_ingestion_config = DataIngestionConfig(\n",
    "            root_dir=config.root_dir,\n",
    "            source_url=config.source_url,\n",
    "            local_data_file=config.local_data_file,\n",
    "            unzip_dir=config.unzip_dir\n",
    "        )\n",
    "\n",
    "        return data_ingestion_config"
   ]
  },
  {
   "cell_type": "code",
   "execution_count": 20,
   "id": "b290e4ce",
   "metadata": {},
   "outputs": [],
   "source": [
    "# Update the Components - This is the data ingestion components\n",
    "\n",
    "import os\n",
    "import urllib.request as request\n",
    "import zipfile\n",
    "import gdown\n",
    "from Kidney_classifier import logger\n",
    "from Kidney_classifier.utils.common import get_size"
   ]
  },
  {
   "cell_type": "code",
   "execution_count": 28,
   "id": "f2fa6f55",
   "metadata": {},
   "outputs": [],
   "source": [
    "class DataIngestion:\n",
    "    def __init__(self, config: DataIngestionConfig):\n",
    "        self.config = config\n",
    "\n",
    "    \n",
    "    def download_file(self) -> str:\n",
    "        \"\"\"\n",
    "        Fetching data from the google drive\n",
    "        \"\"\"\n",
    "\n",
    "        try:\n",
    "            dataset_url = self.config.source_url\n",
    "            zip_download_dir = self.config.local_data_file\n",
    "            os.makedirs(\"artifacts/data_ingestion\", exist_ok=True)\n",
    "            logger.info(f\"Downloading dataset from {dataset_url} into the file {zip_download_dir}\")\n",
    "\n",
    "            file_id = dataset_url.split(\"/\")[-2]\n",
    "            prefix = \"https://drive.google.com/uc?/export=download&id=\"\n",
    "            full_download_url = prefix + file_id\n",
    "            gdown.download(full_download_url, zip_download_dir)\n",
    "\n",
    "            logger.info(f\"Downloaded data from {dataset_url} into the file {zip_download_dir}\")\n",
    "\n",
    "        except Exception as e:\n",
    "            raise e\n",
    "\n",
    "    \n",
    "    def extract_zip_file(self):\n",
    "        \"\"\"\n",
    "        Args:\n",
    "            zip_file_path: str\n",
    "            Extracts the zip file into the data directory.\n",
    "\n",
    "        Returns:\n",
    "            None\n",
    "\n",
    "        \"\"\"\n",
    "\n",
    "        unzip_path = self.config.unzip_dir\n",
    "        os.makedirs(unzip_path, exist_ok=True)\n",
    "        with zipfile.ZipFile(self.config.local_data_file, \"r\") as zip_ref:\n",
    "            zip_ref.extractall(unzip_path)\n"
   ]
  },
  {
   "cell_type": "code",
   "execution_count": 29,
   "id": "65cc45d4",
   "metadata": {},
   "outputs": [
    {
     "name": "stdout",
     "output_type": "stream",
     "text": [
      "[2025-08-01 11:40:51,039: INFO: common: yaml file: config\\config.yaml loaded successfully]\n",
      "[2025-08-01 11:40:51,042: INFO: common: yaml file: params.yaml loaded successfully]\n",
      "[2025-08-01 11:40:51,046: INFO: common: created directory at: artifacts]\n",
      "[2025-08-01 11:40:51,049: INFO: common: created directory at: artifacts/data_ingestion]\n",
      "[2025-08-01 11:40:51,052: INFO: 3999868864: Downloading dataset from https://drive.google.com/file/d/10qNYUcIT9QIQ9m1yndnLk8NSNu83BrCk/view?usp=sharing into the file artifacts/data_ingestion/data.zip]\n"
     ]
    },
    {
     "name": "stderr",
     "output_type": "stream",
     "text": [
      "Downloading...\n",
      "From (original): https://drive.google.com/uc?/export=download&id=10qNYUcIT9QIQ9m1yndnLk8NSNu83BrCk\n",
      "From (redirected): https://drive.google.com/uc?%2Fexport=download&id=10qNYUcIT9QIQ9m1yndnLk8NSNu83BrCk&confirm=t&uuid=61a43310-5626-445e-a513-40cbdff2d52b\n",
      "To: c:\\Users\\Olanrewaju Adegoke\\DLOPs\\Kidney_Disease_Classification\\artifacts\\data_ingestion\\data.zip\n",
      "100%|██████████| 41.9M/41.9M [00:03<00:00, 10.6MB/s]"
     ]
    },
    {
     "name": "stdout",
     "output_type": "stream",
     "text": [
      "[2025-08-01 11:40:57,292: INFO: 3999868864: Downloaded data from https://drive.google.com/file/d/10qNYUcIT9QIQ9m1yndnLk8NSNu83BrCk/view?usp=sharing into the file artifacts/data_ingestion/data.zip]\n"
     ]
    },
    {
     "name": "stderr",
     "output_type": "stream",
     "text": [
      "\n"
     ]
    }
   ],
   "source": [
    "# Update the Pipeline - the state of execution of the workflow\n",
    "\n",
    "try:\n",
    "    config = ConfigurationManager()\n",
    "    data_ingestion_config = config.get_data_ingestion_config()\n",
    "    data_ingestion = DataIngestion(config=data_ingestion_config)\n",
    "    data_ingestion.download_file()\n",
    "    data_ingestion.extract_zip_file()\n",
    "\n",
    "except Exception as e:\n",
    "    raise e"
   ]
  }
 ],
 "metadata": {
  "kernelspec": {
   "display_name": "KIDNEY_CLASS_VENV",
   "language": "python",
   "name": "python3"
  },
  "language_info": {
   "codemirror_mode": {
    "name": "ipython",
    "version": 3
   },
   "file_extension": ".py",
   "mimetype": "text/x-python",
   "name": "python",
   "nbconvert_exporter": "python",
   "pygments_lexer": "ipython3",
   "version": "3.11.9"
  }
 },
 "nbformat": 4,
 "nbformat_minor": 5
}
